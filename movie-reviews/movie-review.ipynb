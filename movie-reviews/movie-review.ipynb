{
 "metadata": {
  "language_info": {
   "codemirror_mode": {
    "name": "ipython",
    "version": 3
   },
   "file_extension": ".py",
   "mimetype": "text/x-python",
   "name": "python",
   "nbconvert_exporter": "python",
   "pygments_lexer": "ipython3",
   "version": "3.9.6"
  },
  "orig_nbformat": 4,
  "kernelspec": {
   "name": "python3",
   "display_name": "Python 3.9.6 64-bit"
  },
  "interpreter": {
   "hash": "aee8b7b246df8f9039afb4144a1f6fd8d2ca17a180786b69acc140d282b71a49"
  }
 },
 "nbformat": 4,
 "nbformat_minor": 2,
 "cells": [
  {
   "cell_type": "code",
   "execution_count": 2,
   "metadata": {},
   "outputs": [
    {
     "output_type": "stream",
     "name": "stdout",
     "text": [
      "Version:  2.5.0-rc3\nEager mode:  True\nHub version:  0.12.0\nGPU is NOT AVAILABLE\n"
     ]
    }
   ],
   "source": [
    "import os\n",
    "import numpy as np\n",
    "\n",
    "import tensorflow as tf\n",
    "import tensorflow_hub as hub\n",
    "import tensorflow_datasets as tfds\n",
    "\n",
    "print(\"Version: \", tf.__version__)\n",
    "print(\"Eager mode: \", tf.executing_eagerly())\n",
    "print(\"Hub version: \", hub.__version__)\n",
    "print(\"GPU is\", \"available\" if tf.config.list_physical_devices(\"GPU\") else \"NOT AVAILABLE\")"
   ]
  },
  {
   "cell_type": "code",
   "execution_count": 3,
   "metadata": {
    "tags": []
   },
   "outputs": [],
   "source": [
    "train_data, validation_data, test_data = tfds.load(\n",
    "    name=\"imdb_reviews\",\n",
    "    split=('train[:60%]', 'train[60%:]', 'test'),\n",
    "    as_supervised=True\n",
    ")"
   ]
  },
  {
   "cell_type": "code",
   "execution_count": 6,
   "metadata": {},
   "outputs": [],
   "source": [
    "embedding = \"https://tfhub.dev/google/nnlm-en-dim50/2\"\n",
    "hub_layer = hub.KerasLayer(embedding, input_shape=[], dtype=tf.string, trainable=True)\n"
   ]
  },
  {
   "cell_type": "code",
   "execution_count": 7,
   "metadata": {},
   "outputs": [
    {
     "output_type": "stream",
     "name": "stdout",
     "text": [
      "Model: \"sequential\"\n_________________________________________________________________\nLayer (type)                 Output Shape              Param #   \n=================================================================\nkeras_layer_1 (KerasLayer)   (None, 50)                48190600  \n_________________________________________________________________\ndense (Dense)                (None, 16)                816       \n_________________________________________________________________\ndense_1 (Dense)              (None, 1)                 17        \n=================================================================\nTotal params: 48,191,433\nTrainable params: 48,191,433\nNon-trainable params: 0\n_________________________________________________________________\n"
     ]
    }
   ],
   "source": [
    "model = tf.keras.Sequential()\n",
    "model.add(hub_layer)\n",
    "model.add(tf.keras.layers.Dense(16, activation='relu'))\n",
    "model.add(tf.keras.layers.Dense(1))\n",
    "\n",
    "model.summary()"
   ]
  },
  {
   "cell_type": "code",
   "execution_count": 8,
   "metadata": {},
   "outputs": [],
   "source": [
    "model.compile(\n",
    "    optimizer='adam',\n",
    "    loss=tf.keras.losses.BinaryCrossentropy(from_logits=True),\n",
    "    metrics=['accuracy']\n",
    ")"
   ]
  },
  {
   "cell_type": "code",
   "execution_count": 9,
   "metadata": {},
   "outputs": [
    {
     "output_type": "stream",
     "name": "stdout",
     "text": [
      "Epoch 1/10\n",
      "30/30 [==============================] - 13s 420ms/step - loss: 0.6406 - accuracy: 0.5506 - val_loss: 0.5857 - val_accuracy: 0.6155\n",
      "Epoch 2/10\n",
      "30/30 [==============================] - 12s 410ms/step - loss: 0.5144 - accuracy: 0.7238 - val_loss: 0.4789 - val_accuracy: 0.7519\n",
      "Epoch 3/10\n",
      "30/30 [==============================] - 12s 412ms/step - loss: 0.3855 - accuracy: 0.8353 - val_loss: 0.3927 - val_accuracy: 0.8127\n",
      "Epoch 4/10\n",
      "30/30 [==============================] - 12s 411ms/step - loss: 0.2808 - accuracy: 0.8912 - val_loss: 0.3423 - val_accuracy: 0.8521\n",
      "Epoch 5/10\n",
      "30/30 [==============================] - 12s 412ms/step - loss: 0.2024 - accuracy: 0.9293 - val_loss: 0.3191 - val_accuracy: 0.8643\n",
      "Epoch 6/10\n",
      "30/30 [==============================] - 12s 413ms/step - loss: 0.1472 - accuracy: 0.9549 - val_loss: 0.3145 - val_accuracy: 0.8565\n",
      "Epoch 7/10\n",
      "30/30 [==============================] - 12s 412ms/step - loss: 0.1083 - accuracy: 0.9703 - val_loss: 0.3099 - val_accuracy: 0.8686\n",
      "Epoch 8/10\n",
      "30/30 [==============================] - 12s 414ms/step - loss: 0.0777 - accuracy: 0.9813 - val_loss: 0.3156 - val_accuracy: 0.8688\n",
      "Epoch 9/10\n",
      "30/30 [==============================] - 12s 414ms/step - loss: 0.0570 - accuracy: 0.9891 - val_loss: 0.3250 - val_accuracy: 0.8674\n",
      "Epoch 10/10\n",
      "30/30 [==============================] - 13s 417ms/step - loss: 0.0416 - accuracy: 0.9943 - val_loss: 0.3372 - val_accuracy: 0.8664\n"
     ]
    }
   ],
   "source": [
    "history = model.fit(\n",
    "    train_data.shuffle(10000).batch(512),\n",
    "    epochs=10,\n",
    "    validation_data= validation_data.batch(512),\n",
    "    verbose=1\n",
    ")"
   ]
  },
  {
   "cell_type": "code",
   "execution_count": 10,
   "metadata": {},
   "outputs": [
    {
     "output_type": "stream",
     "name": "stdout",
     "text": [
      "49/49 - 1s - loss: 0.3633 - accuracy: 0.8520\n",
      "loss: 0.363\n",
      "accuracy: 0.852\n"
     ]
    }
   ],
   "source": [
    "results = model.evaluate(test_data.batch(512), verbose=2)\n",
    "\n",
    "for name, value in zip(model.metrics_names, results):\n",
    "  print(\"%s: %.3f\" % (name, value))"
   ]
  }
 ]
}